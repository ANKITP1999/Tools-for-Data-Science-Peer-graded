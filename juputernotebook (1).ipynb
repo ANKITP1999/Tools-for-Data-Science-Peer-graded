{
 "cells": [
  {
   "cell_type": "markdown",
   "id": "2df099f9",
   "metadata": {},
   "source": [
    "<center>\n",
    "    <img src=\"https://cf-courses-data.s3.us.cloud-object-storage.appdomain.cloud/IBMDeveloperSkillsNetwork-DS0105EN-SkillsNetwork/labs/Module2/images/SN_web_lightmode.png\" width=\"300\" alt=\"cognitiveclass.ai logo\">\n",
    "</center>\n"
   ]
  },
  {
   "cell_type": "markdown",
   "id": "332955a7",
   "metadata": {},
   "source": [
    "#### Add your code below following the instructions given in the course"
   ]
  },
  {
   "cell_type": "markdown",
   "id": "5fc26041",
   "metadata": {},
   "source": [
    "# Data Science tools and Ecosystem"
   ]
  },
  {
   "cell_type": "markdown",
   "id": "0f5723dd",
   "metadata": {},
   "source": [
    "# Introduction to data science tool and Ecosystem\n",
    "Data science is the process of drawing useful insights from raw data using a combination of different components such as domain expertise, knowledge of maths and statistics, programming skills, and machine learning models. The insights are later translated by business users and key decision-makers into tangible business value.Data science has turned out to be one of the most popular tech fields in the 21st century. This is because almost every industry, including healthcare, travel, automobile, defense, and manufacturing, has applications associated with data science. These wide applications and increased demand for maximizing business value have led to the development of various data science tools.\n",
    "## Ecosystem\n",
    "Using modern technologies like AI and cloud, businesses can leverage their data ecosystems to gain significant value from their data assets. This, in turn, helps them understand customer and market behavior, improve processes and ultimately generate higher returns.\n",
    "\n",
    "Companies often create data ecosystems to obtain useful information on how customers respond to their products. Due to the constantly evolving nature of infrastructure, businesses need their own cloud data ecosystem that meets their business goals and caters to their target audience. With a collection of software and hardware, businesses can collect, analyze, store, and utilize data.\n",
    "\n",
    "Some more benefits of data ecosystem creation are:\n",
    "\n",
    "Cost savings: Using the cloud simplifies the digital landscape due to fewer expenses on the transition from a data warehouse\n",
    "Customer engagement: Product teams analyze customers' likes and dislike with the data trails customers leave from digital product usage and alter product features accordingly\n",
    "Greater returns: With higher data monetization and getting value from legacy data stores, organizations can generate greater returns\n",
    "Increased market speed: AI-driven data engineering gives faster information and increases its speed to the market\n",
    "Process enhancement: You can enhance and optimize internal operations like inventory and supply chain management through big data set analysis\n",
    "Things to consider when creating a data ecosystem\n",
    "Here are a few things to keep in mind when creating a data ecosystem:\n",
    "\n",
    "Prioritize data governance\n",
    "Data governance is essential for any organization to run seamlessly because IT doesn't give a transparent data oversight due to the data ecosystem constantly evolving\n",
    "Establish data governance rules on how to collect, utilize, store, protect and discard data\n",
    "Use data preparation technologies to understand the link between data sources and its transformation process for analytics and BI, creating data lineage and ultimately building trust\n",
    "Focus on architecture\n",
    "With multiple data platforms and sources like data warehouses, data lakes, cloud-based systems, and real-time streaming data, it can be easy to end up with a rigid architecture\n",
    "Organizations rely on these to meet the information demands, making the metadata quality suffer and putting pressure on data integration\n",
    "Firms need to use the right platforms for workloads to benefit from them fully\n",
    "Data science democratization\n",
    "Democratization helps foster an environment where analytics enable everyone to program, analyze, and gain immense business knowledge from available data sets\n",
    "With data science teams, firms can have experts from various groups work collectively so more users can perform these activities\n",
    "Data tools enable non-data scientists to decipher complex data\n",
    "Are you looking to optimize your data ecosystem? Learn how Scuba Analytics can help you break down silos within your organization, and find the answers to your data questions, with a single platform.\n",
    "\n"
   ]
  },
  {
   "cell_type": "markdown",
   "id": "83301cdd",
   "metadata": {},
   "source": [
    "Some of the popular languages that Data Scientists use are:\n",
    "<ol>\n",
    "    <li>R </li>\n",
    "    <li>SQL</li>\n",
    "    <li>Java</li>\n",
    "    <li>Julia</li>\n",
    "    <li>Scala</li>\n",
    "    <li>JavaScript</li>\n",
    "     <li>Swift</li>\n",
    "     <li>Go</li>\n",
    "    </ol>"
   ]
  },
  {
   "cell_type": "markdown",
   "id": "07e12dee",
   "metadata": {},
   "source": [
    "Some of the commonly used libraries used by Data Scientists include:\n",
    "<ul>    \n",
    "<li>NumPy</li>\n",
    "<li>SciPy</li>\n",
    "<li>BeautifulSoup</li>\n",
    "<li>Scrappy</li>\n",
    "<li>Pandas</li>\n",
    "<li>Matplotlib</li>\n",
    "<li>Plotly</li>\n",
    "<li>Seaborn</li>\n",
    "<li>Scikit Learn</li>\n",
    "<li>PyCaret</li>\n",
    "<li>TensorFlow</li>\n",
    "<li>Keras</li>\n",
    "</ul>"
   ]
  },
  {
   "cell_type": "markdown",
   "id": "75004f3f",
   "metadata": {},
   "source": [
    "| Data Sciece Tools    | \n",
    "| -------- |\n",
    "| R Studio  |\n",
    "| Anaconda|\n",
    "|Jupyter Notebooks  |\n",
    "|Matlab |\n"
   ]
  },
  {
   "cell_type": "markdown",
   "id": "d5493ad6",
   "metadata": {},
   "source": [
    "### Below are a few examples of evaluating arithmetic expressions in Python.\n",
    "3 +4\n",
    "5 + 9\n",
    "10 + 5"
   ]
  },
  {
   "cell_type": "code",
   "execution_count": 1,
   "id": "8f647dfa",
   "metadata": {},
   "outputs": [
    {
     "data": {
      "text/plain": [
       "52"
      ]
     },
     "execution_count": 1,
     "metadata": {},
     "output_type": "execute_result"
    }
   ],
   "source": [
    "# This a simple arithmetic expression to mutiply then add integers.\n",
    "(3*9)+5\n",
    "(4*10)+12"
   ]
  },
  {
   "cell_type": "code",
   "execution_count": 2,
   "id": "f34ad796",
   "metadata": {},
   "outputs": [
    {
     "data": {
      "text/plain": [
       "32"
      ]
     },
     "execution_count": 2,
     "metadata": {},
     "output_type": "execute_result"
    }
   ],
   "source": [
    "# This a simple arithmetic expression to mutiply then add integers.\n",
    "(3*9)+5"
   ]
  },
  {
   "cell_type": "code",
   "execution_count": 6,
   "id": "fa3dae82",
   "metadata": {},
   "outputs": [
    {
     "name": "stdout",
     "output_type": "stream",
     "text": [
      "Please enter minutes:30\n",
      "0.5  Hours\n"
     ]
    }
   ],
   "source": [
    "# This will convert 200 minutes to hours by diving by 60\n",
    "minutes = int(input(\"Please enter minutes:\"))\n",
    "hours = minutes/60\n",
    "print(hours, \" Hours\")"
   ]
  },
  {
   "cell_type": "markdown",
   "id": "426b38ca",
   "metadata": {},
   "source": [
    "## Objectives\n",
    "<ul>    \n",
    "<li>Python</li>\n",
    "<li>Java</li>\n",
    "<li>Scala</li>\n",
    "<li>Julia</li>\n",
    "<li>SQL</li>\n",
    "<li>Perl</li>\n",
    "<li>C++</li>\n",
    "    </ul>"
   ]
  },
  {
   "cell_type": "markdown",
   "id": "6b6ad17f",
   "metadata": {},
   "source": [
    "## Author\n",
    "# Ankit Pandey\n",
    "# Aman Pandey"
   ]
  },
  {
   "cell_type": "code",
   "execution_count": null,
   "id": "75ad37bc",
   "metadata": {},
   "outputs": [],
   "source": []
  },
  {
   "cell_type": "code",
   "execution_count": null,
   "id": "6173f4fb",
   "metadata": {},
   "outputs": [],
   "source": []
  }
 ],
 "metadata": {
  "kernelspec": {
   "display_name": "Python 3 (ipykernel)",
   "language": "python",
   "name": "python3"
  },
  "language_info": {
   "codemirror_mode": {
    "name": "ipython",
    "version": 3
   },
   "file_extension": ".py",
   "mimetype": "text/x-python",
   "name": "python",
   "nbconvert_exporter": "python",
   "pygments_lexer": "ipython3",
   "version": "3.10.9"
  }
 },
 "nbformat": 4,
 "nbformat_minor": 5
}
